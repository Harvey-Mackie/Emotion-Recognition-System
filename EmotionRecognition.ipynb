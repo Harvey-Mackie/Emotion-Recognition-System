{
  "nbformat": 4,
  "nbformat_minor": 0,
  "metadata": {
    "colab": {
      "name": "faces.ipynb",
      "version": "0.3.2",
      "provenance": [],
      "collapsed_sections": []
    },
    "kernelspec": {
      "name": "python3",
      "display_name": "Python 3"
    },
    "accelerator": "GPU"
  },
  "cells": [
    {
      "metadata": {
        "id": "L2pI13cmuzmi",
        "colab_type": "code",
        "colab": {
          "base_uri": "https://localhost:8080/",
          "height": 129
        },
        "outputId": "52849d4d-4a69-47f5-fa21-296d9d76d296"
      },
      "cell_type": "code",
      "source": [
        "import tensorflow as tf\n",
        "from tensorflow.keras.models import Sequential\n",
        "from tensorflow.keras.layers import Dense, Dropout, Activation, Flatten, Conv2D, MaxPooling2D\n",
        "from tensorflow.keras.callbacks import TensorBoard, EarlyStopping\n",
        "from keras.utils import plot_model\n",
        "from keras.preprocessing import image\n",
        "import pickle\n",
        "import os\n",
        "import cv2\n",
        "import matplotlib.pyplot as plt\n",
        "import numpy as np\n",
        "import random \n",
        "import time\n",
        "\n",
        "from google.colab import drive\n",
        "drive.mount('/content/drive') #Link Google Colab to Google Drive\n",
        "\n",
        "IMG_SIZE = 120 #Image size for the entire system (Model, Training set, Testing set etc)\n",
        "DATADIR = \"/content/drive/My Drive/Colab Notebooks/Training-Data\" #Directory for the dataset\n",
        "CATEGORIES = [\"surprise\",\"anger\",\"disgust\",\"fear\", \"joy\",\"sadness\"] #Emotions (Classes) the model is trained on and can predict\n",
        "face_cascade = cv2.CascadeClassifier('/content/drive/My Drive/Colab Notebooks/Cascade-Classifier/haarcascade_frontalface_default.xml') #The Face Haar Cascade Classifier"
      ],
      "execution_count": 3,
      "outputs": [
        {
          "output_type": "stream",
          "text": [
            "Go to this URL in a browser: https://accounts.google.com/o/oauth2/auth?client_id=947318989803-6bn6qk8qdgf4n4g3pfee6491hc0brc4i.apps.googleusercontent.com&redirect_uri=urn%3Aietf%3Awg%3Aoauth%3A2.0%3Aoob&scope=email%20https%3A%2F%2Fwww.googleapis.com%2Fauth%2Fdocs.test%20https%3A%2F%2Fwww.googleapis.com%2Fauth%2Fdrive%20https%3A%2F%2Fwww.googleapis.com%2Fauth%2Fdrive.photos.readonly%20https%3A%2F%2Fwww.googleapis.com%2Fauth%2Fpeopleapi.readonly&response_type=code\n",
            "\n",
            "Enter your authorization code:\n",
            "··········\n",
            "Mounted at /content/drive\n"
          ],
          "name": "stdout"
        }
      ]
    },
    {
      "metadata": {
        "id": "ACxFUoPuu4E9",
        "colab_type": "code",
        "colab": {}
      },
      "cell_type": "code",
      "source": [
        "#Haar Cascade function - Each image in the dataset is Haar Cascaded (cropped) and converted to grayscale\n",
        "for category in CATEGORIES:\n",
        "  path = os.path.join(DATADIR, category)\n",
        "  for img in os.listdir(path):\n",
        "    image = cv2.imread(os.path.join(path,img), cv2.IMREAD_GRAYSCALE)\n",
        "    faces = face_cascade.detectMultiScale(image, 1.30, 0)\n",
        "    for(x,y,w,h) in faces:\n",
        "      roi_gray = image[y:y+h, x:x+w]\n",
        "      crop = image[y:y+h,  x:x+w]\n",
        "      check = cv2.imwrite(os.path.join(path,img), crop)\n",
        "   "
      ],
      "execution_count": 0,
      "outputs": []
    },
    {
      "metadata": {
        "id": "-xQ3d3CO2hIa",
        "colab_type": "code",
        "colab": {}
      },
      "cell_type": "code",
      "source": [
        "#Read dataset images. Store the images to a numpy array\n",
        "for category in CATEGORIES:\n",
        "  path = os.path.join(DATADIR, category)\n",
        "  for img in os.listdir(path):\n",
        "    img_array = cv2.imread(os.path.join(path,img), cv2.IMREAD_GRAYSCALE)\n",
        "    plt.imshow(img_array, cmap=\"gray\")\n",
        "    plt.show()\n",
        "    break\n",
        "  break  \n"
      ],
      "execution_count": 0,
      "outputs": []
    },
    {
      "metadata": {
        "id": "bR5hAJ7A2yeu",
        "colab_type": "code",
        "colab": {}
      },
      "cell_type": "code",
      "source": [
        "def flipTrainingImage(imageArray, method): #Flip Images vertically and horizontally\n",
        "  code = 0\n",
        "  if(method == \"V\"):\n",
        "    code = 1\n",
        "  flipArray = cv2.flip(imageArray, code)\n",
        "  return flipArray\n",
        "\n",
        "def rotateTrainingImage(imageArray, angle): #Rotate Images clockwise and counter, and upside down clockwise\n",
        "  # rotate cw\n",
        "  code = 0\n",
        "  if(angle == 90):\n",
        "    code = 1 \n",
        "  elif(angle == 180):\n",
        "    code = -1\n",
        "    \n",
        "  if(angle != 180):\n",
        "    rotatedArray=cv2.transpose(imageArray)\n",
        "    rotatedArray=cv2.flip(rotatedArray,flipCode=code)\n",
        "  else:\n",
        "    rotatedArray=cv2.flip(imageArray,flipCode=code)\n",
        "    \n",
        "  return rotatedArray\n",
        "\n",
        "def noiseTrainingImage(imageArray,quantity): #Add salt and pepper noise to image\n",
        "    output = np.zeros(imageArray.shape,np.uint8)\n",
        "    thres = 1 - quantity \n",
        "    for i in range(imageArray.shape[0]):\n",
        "        for j in range(imageArray.shape[1]):\n",
        "            rdn = random.random()\n",
        "            if rdn < quantity:\n",
        "                output[i][j] = 0\n",
        "            elif rdn > thres:\n",
        "                output[i][j] = 255\n",
        "            else:\n",
        "                output[i][j] = imageArray[i][j]\n",
        "    return output\n",
        "  \n",
        "def translationTrainingImage(imageArray, direction): #Applying translation to the image (certain fraction is cropped) - each direction alters the image differently\n",
        "  (HEIGHT,WIDTH) = imageArray.shape\n",
        "  # Shifting Left\n",
        "  if(direction == \"left\"):\n",
        "    for i in range(HEIGHT, 1, -1):\n",
        "      for j in range(WIDTH):\n",
        "         if (i < HEIGHT-20):\n",
        "           imageArray[j][i] = imageArray[j][i-20]\n",
        "         elif (i < HEIGHT-1):\n",
        "           imageArray[j][i] = 0\n",
        "  # Shifting Right\n",
        "  elif(direction == \"right\"):\n",
        "    for j in range(WIDTH):\n",
        "      for i in range(HEIGHT):\n",
        "        if (i < HEIGHT-20):\n",
        "          imageArray[j][i] = imageArray[j][i+20]\n",
        "  # Shifting Top          \n",
        "  elif(direction == \"top\"):\n",
        "    for j in range(WIDTH):\n",
        "      for i in range(HEIGHT):\n",
        "        if (j < WIDTH - 20 and j > 20):\n",
        "          imageArray[j][i] = imageArray[j+20][i]\n",
        "        else:\n",
        "          imageArray[j][i] = 0\n",
        "  # Shifting Down\n",
        "  elif(direction == \"down\"):\n",
        "    for j in range(WIDTH, 1, -1):\n",
        "      for i in range(HEIGHT):\n",
        "        if (j < IMG_SIZE and j > 20):\n",
        "          imageArray[j][i] = imageArray[j-20][i]\n",
        "          \n",
        "  return imageArray\n",
        "  "
      ],
      "execution_count": 0,
      "outputs": []
    },
    {
      "metadata": {
        "id": "fg47Bc9-9ntZ",
        "colab_type": "code",
        "colab": {}
      },
      "cell_type": "code",
      "source": [
        "training_data = []\n",
        "\n",
        "def create_training_data():\n",
        "  for category in CATEGORIES:\n",
        "    path = os.path.join(DATADIR, category)\n",
        "    class_num = CATEGORIES.index(category)\n",
        "    for img in os.listdir(path):\n",
        "      try:\n",
        "          img_array = cv2.imread(os.path.join(path,img), cv2.IMREAD_GRAYSCALE) #Ensure the image is grayscale\n",
        "          new_array = cv2.resize(img_array, (IMG_SIZE, IMG_SIZE)) #Resize Image to 120x120 pixels\n",
        "          #Original Image\n",
        "          training_data.append([new_array, class_num])\n",
        "\n",
        "          # Augmented Data\n",
        "          flipV_array = flipTrainingImage(new_array, \"V\")\n",
        "          flipH_array = flipTrainingImage(new_array, \"H\")\n",
        "          flip90_array = rotateTrainingImage(new_array,90)\n",
        "          flip180_array = rotateTrainingImage(new_array,180)\n",
        "          flip270_array = rotateTrainingImage(new_array,270)\n",
        "          noise_array = noiseTrainingImage(new_array,0.02)\n",
        "          \n",
        "          flipV90_array = flipTrainingImage(flip90_array, \"V\")\n",
        "          flipV270_array = flipTrainingImage(flip270_array, \"V\")\n",
        "          flipV180_array = flipTrainingImage(flip180_array, \"V\")\n",
        "          flipH90_array = flipTrainingImage(flip90_array, \"H\")\n",
        "          flipH270_array = flipTrainingImage(flip270_array, \"H\")\n",
        "          flipH180_array = flipTrainingImage(flip180_array, \"H\")\n",
        "          \n",
        "          translationL_array = translationTrainingImage(new_array,\"left\") \n",
        "          translationR_array = translationTrainingImage(new_array,\"right\") \n",
        "          translationT_array = translationTrainingImage(new_array,\"top\") \n",
        "          translationD_array = translationTrainingImage(new_array,\"down\") \n",
        "\n",
        "          #Appending Augmented Data to the Training set\n",
        "          training_data.append([flipV_array, class_num])\n",
        "          training_data.append([flipH_array, class_num])\n",
        "          training_data.append([flip90_array, class_num])\n",
        "          training_data.append([flip180_array, class_num])\n",
        "          training_data.append([flip270_array, class_num])\n",
        "          training_data.append([noise_array, class_num])\n",
        "          \n",
        "          training_data.append([flipV90_array, class_num])\n",
        "          training_data.append([flipV270_array, class_num])\n",
        "          training_data.append([flipV180_array, class_num])\n",
        "          training_data.append([flipH180_array, class_num])\n",
        "          training_data.append([flipH90_array, class_num])\n",
        "          training_data.append([flipH270_array, class_num])\n",
        "          \n",
        "          training_data.append([translationL_array, class_num])\n",
        "          training_data.append([translationR_array, class_num])\n",
        "          training_data.append([translationT_array, class_num])\n",
        "          training_data.append([translationD_array, class_num])\n",
        "\n",
        "      except Exception as e:\n",
        "          pass\n"
      ],
      "execution_count": 0,
      "outputs": []
    },
    {
      "metadata": {
        "id": "fVUxXbYe_ytZ",
        "colab_type": "code",
        "colab": {}
      },
      "cell_type": "code",
      "source": [
        "create_training_data()\n",
        "print(len(training_data))\n",
        "random.shuffle(training_data)\n",
        "\n",
        "X = [] #features\n",
        "y = [] #labels\n",
        "for features,label in training_data:\n",
        "  X.append(features)\n",
        "  y.append(label)\n",
        "  \n",
        "X = np.array(X).reshape(-1,IMG_SIZE,IMG_SIZE,1)\n",
        "\n",
        "pickle_out = open(\"/content/drive/My Drive/Colab Notebooks/Training-Set/X.pickle\",\"wb\")\n",
        "pickle.dump(X,pickle_out)\n",
        "pickle_out.close();\n",
        "pickle_out = open(\"/content/drive/My Drive/Colab Notebooks/Training-Set/y.pickle\",\"wb\")\n",
        "pickle.dump(y,pickle_out)\n",
        "pickle_out.close();\n"
      ],
      "execution_count": 0,
      "outputs": []
    },
    {
      "metadata": {
        "id": "nor1eNf6Gsl6",
        "colab_type": "code",
        "colab": {}
      },
      "cell_type": "code",
      "source": [
        "#Execute this cell to load the pickle files, instead of having to train, augment and save the data to pixel files (This step is only possible if the pickle files exist and are up to date)\n",
        "pickle_in = open(\"/content/drive/My Drive/Colab Notebooks/Training-Set/X.pickle\",\"rb\")\n",
        "X = pickle.load(pickle_in)\n",
        "\n",
        "pickle_in = open(\"/content/drive/My Drive/Colab Notebooks/Training-Set/y.pickle\",\"rb\")\n",
        "y = pickle.load(pickle_in)\n",
        "\n",
        "print(len(X))\n"
      ],
      "execution_count": 0,
      "outputs": []
    },
    {
      "metadata": {
        "id": "_sUI8GEpu5TH",
        "colab_type": "code",
        "colab": {}
      },
      "cell_type": "code",
      "source": [
        "#CNN Model Architecture\n",
        "\n",
        "#Optimum Model\n",
        "#dense_layers = [0]\n",
        "#layer_sizes = [64]\n",
        "#conv_layers = [4]\n",
        "\n",
        "#Comprehensive Testing Values \n",
        "dense_layers = [0,1,2,3]\n",
        "layer_sizes = [32,64]\n",
        "conv_layers = [1,2,3,4]\n",
        "\n",
        "time = int(time.time())\n",
        "X=X/255 #Normalise the data\n",
        "\n",
        "for dense_layer in dense_layers:\n",
        "  for layer_size in layer_sizes:\n",
        "    for conv_layer in conv_layers:\n",
        "      NAME = f'{conv_layer}-convLayers-{layer_size}-nodes-{dense_layer}-dense-time' #Unique model name to distinguish between models\n",
        "      print(NAME) #Name is printed to visualise which model is being trained\n",
        "      tensorboard = TensorBoard(log_dir=f'/content/drive/My Drive/Colab Notebooks/Logs/{NAME}') #Records model statistics to be viewed via TensorBoard\n",
        "      earlyStopping = EarlyStopping(monitor='val_loss', min_delta=0, patience=3, verbose=0, mode='auto', baseline=None, restore_best_weights=False) #controls the training time of the model (halts when overfitting)\n",
        "      model = Sequential() #Sequential model structure\n",
        "\n",
        "      #Convolutional Layers \n",
        "      model.add(Conv2D(layer_size,(3,3), input_shape = X.shape[1:]))\n",
        "      model.add(Activation(\"relu\"))\n",
        "      model.add(MaxPooling2D(pool_size=(2,2)))\n",
        "      \n",
        "      for l in range(conv_layer-1):\n",
        "        model.add(Conv2D(layer_size,(3,3)))\n",
        "        model.add(Activation(\"relu\"))\n",
        "        model.add(MaxPooling2D(pool_size=(2,2)))\n",
        "      model.add(Flatten()) #2D to 1D\n",
        "      \n",
        "      #Fully connected layer\n",
        "      for l in range(dense_layer):\n",
        "        model.add(Dense(layer_size))\n",
        "        model.add(Activation(\"relu\"))\n",
        "\n",
        "      #Output Layer\n",
        "      model.add(Dropout(0.2))\n",
        "      model.add(Dense(6))\n",
        "      model.add(Activation('softmax'))\n",
        "\n",
        "      model.compile(\n",
        "                   loss=\"sparse_categorical_crossentropy\",\n",
        "                   optimizer='adam',\n",
        "                   metrics=['accuracy']\n",
        "                   )\n",
        "      \n",
        "      history = model.fit(X, y, batch_size=64, epochs=25, validation_split=0.2, callbacks=[tensorboard,earlyStopping]) #Calllbacks are set when the model starts to train\n",
        "      model.save(f'/content/drive/My Drive/Colab Notebooks/Model/{NAME}.model')\n",
        "      # Plot training & validation accuracy values\n",
        "      plt.plot(history.history['acc'])\n",
        "      plt.plot(history.history['val_acc'])\n",
        "      plt.title('Model accuracy')\n",
        "      plt.ylabel('Accuracy')\n",
        "      plt.xlabel('Epoch')\n",
        "      plt.legend(['Train', 'Test'], loc='upper left')\n",
        "      plt.show()\n",
        "\n",
        "      # Plot training & validation loss values\n",
        "      plt.plot(history.history['loss'])\n",
        "      plt.plot(history.history['val_loss'])\n",
        "      plt.title('Model loss')\n",
        "      plt.ylabel('Loss')\n",
        "      plt.xlabel('Epoch')\n",
        "      plt.legend(['Train', 'Test'], loc='upper left')\n",
        "      plt.show()\n",
        "      plot_model(model, to_file='/content/drive/Colab Notebooks/My Drive/model.png', show_shapes=True) #View visual representation of the model\n",
        "model.summary() #View summary of the model"
      ],
      "execution_count": 0,
      "outputs": []
    },
    {
      "metadata": {
        "id": "NTsQYLbEL9Cl",
        "colab_type": "code",
        "colab": {
          "base_uri": "https://localhost:8080/",
          "height": 148
        },
        "outputId": "d0b8c46c-992b-4bc5-b359-de8e8c863235"
      },
      "cell_type": "code",
      "source": [
        "#Select Model for predictions\n",
        "\n",
        "#Load the trained model, alter the 'NAME' variable to change models\n",
        "NAME = '4-convLayers-64-nodes-0-dense-time'\n",
        "model = tf.keras.models.load_model(f'/content/drive/My Drive/Colab Notebooks/Model/{NAME}.model')"
      ],
      "execution_count": 4,
      "outputs": [
        {
          "output_type": "stream",
          "text": [
            "WARNING:tensorflow:From /usr/local/lib/python3.6/dist-packages/tensorflow/python/ops/resource_variable_ops.py:435: colocate_with (from tensorflow.python.framework.ops) is deprecated and will be removed in a future version.\n",
            "Instructions for updating:\n",
            "Colocations handled automatically by placer.\n",
            "WARNING:tensorflow:From /usr/local/lib/python3.6/dist-packages/tensorflow/python/keras/layers/core.py:143: calling dropout (from tensorflow.python.ops.nn_ops) with keep_prob is deprecated and will be removed in a future version.\n",
            "Instructions for updating:\n",
            "Please use `rate` instead of `keep_prob`. Rate should be set to `rate = 1 - keep_prob`.\n"
          ],
          "name": "stdout"
        }
      ]
    },
    {
      "metadata": {
        "id": "5CM7KWdD6JgJ",
        "colab_type": "text"
      },
      "cell_type": "markdown",
      "source": [
        ""
      ]
    },
    {
      "metadata": {
        "id": "H7rFqgkjus0b",
        "colab_type": "code",
        "colab": {
          "base_uri": "https://localhost:8080/",
          "height": 435
        },
        "outputId": "30b34889-f4d4-499a-f79c-4167cfb53107"
      },
      "cell_type": "code",
      "source": [
        "#Select Image to be predicted and visualise the result\n",
        "\n",
        "#Image to be predicted by the model\n",
        "file = '/content/drive/My Drive/Colab Notebooks/Live-Testing-Set/Jo/joy/jo_joy.JPG'\n",
        "# Load an image file to test, resizing it to 120 x 120 pixels (as required by this model)\n",
        "img = image.load_img(file, target_size=(IMG_SIZE, IMG_SIZE),color_mode = \"grayscale\")\n",
        "#Convert image to numpy array\n",
        "image_to_test = image.img_to_array(img)\n",
        "\n",
        "#Haar Cascade\n",
        "gray = np.array(image_to_test, dtype='uint8')\n",
        "faces = face_cascade.detectMultiScale(gray, 1.10, 0)\n",
        "for(x,y,w,h) in faces:\n",
        "  roi_gray = gray[y:y+h, x:x+w]\n",
        "  crop = gray[y:y+h,  x:x+w]\n",
        "resized_image = cv2.resize(crop, (120, 120))   \n",
        "image_to_test = image.img_to_array(resized_image)\n",
        "\n",
        "# Add a fourth dimension to the image (since Keras expects a list of images, not a single image)\n",
        "list_of_images = np.expand_dims(image_to_test, axis=0)\n",
        "#Model Prediction \n",
        "prediction = model.predict(list_of_images)             \n",
        "# Only one image is being tested, therefore the first result is stored in the single_result variable\n",
        "single_result = prediction[0]\n",
        "\n",
        "# Retrieve the class percentages for each of the six emotions. \n",
        "most_likely_class_index = int(np.argmax(single_result))\n",
        "#Find out which class has the highest score.\n",
        "class_likelihood = single_result[most_likely_class_index]\n",
        "# Get the name of the most likely emotion\n",
        "class_label = CATEGORIES[most_likely_class_index]\n",
        "\n",
        "# Print the result\n",
        "print(\"{} - Likelihood: {:2f}\".format(class_label, class_likelihood))\n",
        "print(\"Predicted Emotion: {}\".format(class_label))\n",
        "print(\"Suprise: \" + str(float(\"{:.2f}\".format(float(prediction[0][0])))))\n",
        "print(\"Anger: \" + str(float(\"{:.2f}\".format(float(prediction[0][1])))))\n",
        "print(\"Disgust: \" + str(float(\"{:.2f}\".format(float(prediction[0][2])))))\n",
        "print(\"Fear: \" + str(float(\"{:.2f}\".format(float(prediction[0][3])))))\n",
        "print(\"Joy: \" + str(float(\"{:.2f}\".format(float(prediction[0][4])))))\n",
        "print(\"Sadness: \" + str(float(\"{:.2f}\".format(float(prediction[0][5])))))\n",
        "\n",
        "plt.imshow(resized_image, cmap='gray')"
      ],
      "execution_count": 11,
      "outputs": [
        {
          "output_type": "stream",
          "text": [
            "joy - Likelihood: 0.753370\n",
            "Predicted Emotion: joy\n",
            "Suprise: 0.01\n",
            "Anger: 0.06\n",
            "Disgust: 0.03\n",
            "Fear: 0.15\n",
            "Joy: 0.75\n",
            "Sadness: 0.0\n"
          ],
          "name": "stdout"
        },
        {
          "output_type": "execute_result",
          "data": {
            "text/plain": [
              "<matplotlib.image.AxesImage at 0x7f543a218908>"
            ]
          },
          "metadata": {
            "tags": []
          },
          "execution_count": 11
        },
        {
          "output_type": "display_data",
          "data": {
            "image/png": "[encoded data removed]",
            "text/plain": [
              "<Figure size 432x288 with 1 Axes>"
            ]
          },
          "metadata": {
            "tags": []
          }
        }
      ]
    }
  ]
}